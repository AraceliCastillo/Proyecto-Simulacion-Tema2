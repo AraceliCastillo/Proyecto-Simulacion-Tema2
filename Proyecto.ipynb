{
 "cells": [
  {
   "cell_type": "markdown",
   "metadata": {},
   "source": [
    "<img style=\"float: right; margin: 0px 0px 15px 15px;\" src=\"https://profesionaljdeabajo.files.wordpress.com/2013/08/clima.png\" width=400\"px\" height=\"200px\" />\n",
    "## LA ENERGÍA SEGÚN EL ESTADO DE TIEMPO\n",
    "\n",
    "\n"
   ]
  },
  {
   "cell_type": "markdown",
   "metadata": {},
   "source": [
    "### 1.2 Objetivos.\n",
    "> #### 1.1 Objetivo general.\n",
    ">  - Identificar si las variables del estado de tiempo deben ser consideradas en el pronóstico de la demanda de energía.\n",
    "> #### 1.2 Objetivos específicos\n",
    ">  - Determinar si la temperatura ponderada tiene una alta correlación con la demanda de energía.\n",
    ">  - Establecer si la demanda de energía se ve afectada por la velocidad del viento ponderado.\n",
    ">  - Precisar la relación entre la nubosidad y la demanda de energía\n",
    ">  - Señalar si la demanda de energía y la lluvia son recíprocas\n",
    "\n"
   ]
  },
  {
   "cell_type": "code",
   "execution_count": null,
   "metadata": {},
   "outputs": [],
   "source": []
  }
 ],
 "metadata": {
  "kernelspec": {
   "display_name": "Python 3",
   "language": "python",
   "name": "python3"
  },
  "language_info": {
   "codemirror_mode": {
    "name": "ipython",
    "version": 3
   },
   "file_extension": ".py",
   "mimetype": "text/x-python",
   "name": "python",
   "nbconvert_exporter": "python",
   "pygments_lexer": "ipython3",
   "version": "3.6.5"
  }
 },
 "nbformat": 4,
 "nbformat_minor": 2
}
