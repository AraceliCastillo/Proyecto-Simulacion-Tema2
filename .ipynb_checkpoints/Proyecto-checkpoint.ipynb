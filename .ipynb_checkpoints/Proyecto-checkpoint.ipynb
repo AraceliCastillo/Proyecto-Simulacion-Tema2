{
 "cells": [
  {
   "cell_type": "markdown",
   "metadata": {},
   "source": [
    "<img style=\"float: right; margin: 0px 0px 15px 15px;\" src=\"https://profesionaljdeabajo.files.wordpress.com/2013/08/clima.png\" width=400\"px\" height=\"200px\" />\n",
    "\n",
    "> - Integrante 1: Castillo Fuhr Araceli Soledad\n",
    "> - Integrante 2: Ramírez Hinojosa Diana Laura\n",
    "\n",
    "## 1.1 LA ENERGÍA SEGÚN EL ESTADO DE TIEMPO\n",
    "\n",
    "<p style=\"text-align: justify;\">El Centro Nacional de Control de Energía (CENACE) es un organismo público descentralizado cuyo objeto es ejercer el Control Operativo del Sistema Eléctrico Nacional</p>\n",
    "\n",
    "\n"
   ]
  },
  {
   "cell_type": "markdown",
   "metadata": {},
   "source": [
    "### 1.2 Objetivos.\n",
    "#### 1.21 Objetivo general.\n",
    ">  - Identificar si las variables del estado de tiempo deben ser consideradas en el pronóstico de la demanda de energía.\n",
    "> #### 1.22 Objetivos específicos\n",
    ">  - Determinar si la temperatura ponderada tiene una alta correlación con la demanda de energía.\n",
    ">  - Establecer si la demanda de energía se ve afectada por la velocidad del viento ponderado.\n",
    ">  - Precisar la relación entre la nubosidad y la demanda de energía\n",
    ">  - Señalar si la demanda de energía y la lluvia son recíprocas\n",
    "\n",
    "### 1.3 Definición del problema.\n",
    "<p style=\"text-align: justify;\"> El CENACE de occidente genera la energía necesaria para abastecer a nueve estados de la república debido a lo indispensable que es la energía para los mexicanos este organizmo público descentralizado debe ser capaz de abastecer la demanda de este insumo.El CENACE se enfrenta diariamente a tres posibles escenarios: </p>\n",
    "\n",
    ">  - Que la producción de energía sea mayor a la demanda, generando pérdidas para la empresa.\n",
    ">  - Que la demanda sea mayor a la producción de energía, dejando a muchas familias sin este recurso.\n",
    ">  - Que la demanda y la producción sean equivalentes, que es lo ideal para este organismo. \n",
    "\n",
    "<p style=\"text-align: justify;\">Es evidente entonces que es necesaria una producción acertada de la demanda. Para esto se utilizan modelos como regresiones pero el CENACE se encuentra ante un dilema: ¿Deben considerar, aparte de la información que la misma serie de datos otorga, las variables del estado del tiempo?</p>"
   ]
  },
  {
   "cell_type": "markdown",
   "metadata": {},
   "source": []
  }
 ],
 "metadata": {
  "kernelspec": {
   "display_name": "Python 3",
   "language": "python",
   "name": "python3"
  },
  "language_info": {
   "codemirror_mode": {
    "name": "ipython",
    "version": 3
   },
   "file_extension": ".py",
   "mimetype": "text/x-python",
   "name": "python",
   "nbconvert_exporter": "python",
   "pygments_lexer": "ipython3",
   "version": "3.6.5"
  }
 },
 "nbformat": 4,
 "nbformat_minor": 2
}
